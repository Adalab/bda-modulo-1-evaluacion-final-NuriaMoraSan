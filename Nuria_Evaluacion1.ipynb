{
 "cells": [
  {
   "cell_type": "markdown",
   "metadata": {},
   "source": [
    "Examen - Modulo1 - Nuria Mora"
   ]
  },
  {
   "cell_type": "code",
   "execution_count": 17,
   "metadata": {},
   "outputs": [
    {
     "name": "stdout",
     "output_type": "stream",
     "text": [
      "[{'nombre': 'Camisa', 'precio': 20, 'cantidad': 40}, {'nombre': 'Pantalón', 'precio': 30, 'cantidad': 30}]\n"
     ]
    }
   ],
   "source": [
    "'''1. `inventario` (lista de diccionarios): Una estructura para almacenar los\n",
    "productos en el inventario. Cada producto debe ser representado como un\n",
    "diccionario con las siguientes claves: `'nombre'`, `'precio'`, y\n",
    "`'cantidad'`. Al principio deberá ser una lista vacía. Ejemplo de como\n",
    "debería ser:\n",
    "```python\n",
    "[{'nombre': 'Camisa', 'precio': 20, 'cantidad': 40},\n",
    "{'nombre': 'Pantalón', 'precio': 30, 'cantidad': 30}]\n",
    "```'''\n",
    "inventario = []\n",
    "\n",
    "inventario.append({'nombre': 'Camisa', 'precio': 20, 'cantidad': 40})\n",
    "inventario.append({'nombre': 'Pantalón', 'precio': 30, 'cantidad': 30})\n",
    "print(inventario)"
   ]
  },
  {
   "cell_type": "code",
   "execution_count": 7,
   "metadata": {},
   "outputs": [
    {
     "name": "stdout",
     "output_type": "stream",
     "text": [
      "{'Cliente1': {'email': 'cliente1@email.com', 'compras': []}, 'Cliente2': {'email': 'cliente2@email.com', 'compras': []}}\n"
     ]
    }
   ],
   "source": [
    "'''\n",
    "2. `clientes` (diccionario): Una estructura para llevar un registro de los\n",
    "clientes de la tienda. Cada cliente debe ser representado como un\n",
    "diccionario con las siguientes claves: `'nombre'` y `'email'`. Al inicio\n",
    "deberá ser un diccionario vacío. Además, cada cliente debe tener un\n",
    "historial de compras. Deberá parecerse a:\n",
    "```python\n",
    "{'Cliente1': {'email': 'cliente1@email.com', 'compras': []},\n",
    "'Cliente2': {'email': 'cliente2@email.com', 'compras': []}}\n",
    "```'''\n",
    "clientes = {}\n",
    "\n",
    "clientes['Cliente1'] = {'email': 'cliente1@email.com', 'compras': []}\n",
    "clientes['Cliente2'] = {'email': 'cliente2@email.com', 'compras': []}\n",
    "print(clientes)"
   ]
  },
  {
   "cell_type": "code",
   "execution_count": 8,
   "metadata": {},
   "outputs": [
    {
     "name": "stdout",
     "output_type": "stream",
     "text": [
      "Ventas Totales:  0.0\n"
     ]
    }
   ],
   "source": [
    "'''\n",
    "3. `ventas_totales` (float): Una variable para llevar un registro de las\n",
    "ventas totales de la tienda. Inicializalo con valor 0.\n",
    "'''\n",
    "ventas_totales = 0.0\n",
    "\n",
    "ventas=ventas_totales\n",
    "print(f\"Ventas Totales: \", ventas)"
   ]
  },
  {
   "cell_type": "code",
   "execution_count": 18,
   "metadata": {},
   "outputs": [
    {
     "name": "stdout",
     "output_type": "stream",
     "text": [
      "El producto Camisa ya está registrado. Actualizando datos...\n",
      "Producto Zapatos agregado con éxito.\n"
     ]
    }
   ],
   "source": [
    "'''\n",
    "1. `agregar_producto(nombre, precio, cantidad)`: Esta función agrega un\n",
    "producto al inventario o actualiza su cantidad si ya existe. Debe recibir el\n",
    "nombre, precio y cantidad del producto como parámetros.\n",
    "- Itera a través del inventario y compara los nombres de los productos\n",
    "con el nombre proporcionado.\n",
    "- Si el producto ya existe, actualiza la cantidad.\n",
    "- Si no existe, agrega un nuevo producto al inventario.\n",
    "'''\n",
    "def agregar_producto(nombre, precio, cantidad):\n",
    "    for producto in inventario:\n",
    "        if producto['nombre'] == nombre:\n",
    "            print(f\"El producto {nombre} ya está registrado. Actualizando datos...\")\n",
    "            producto['cantidad'] += cantidad\n",
    "            return\n",
    "    \n",
    "    nuevo_producto = {\n",
    "        'nombre': nombre,\n",
    "        'precio': precio,\n",
    "        'cantidad': cantidad\n",
    "    }\n",
    "    inventario.append(nuevo_producto)\n",
    "    #inventario.append({'nombre': nombre, 'precio': precio, 'cantidad': cantidad})#añade un producto que no existe\n",
    "    print(f\"Producto {nombre} agregado con éxito.\")\n",
    "\n",
    "agregar_producto('Camisa', 20 , 10)\n",
    "agregar_producto('Zapatos', 50, 40)\n",
    "\n",
    "#print(inventario)"
   ]
  },
  {
   "cell_type": "code",
   "execution_count": 19,
   "metadata": {},
   "outputs": [
    {
     "name": "stdout",
     "output_type": "stream",
     "text": [
      "Nombre: Camisa, precio: 20, cantidad: 50\n",
      "Nombre: Pantalón, precio: 30, cantidad: 30\n",
      "Nombre: Zapatos, precio: 50, cantidad: 40\n"
     ]
    }
   ],
   "source": [
    "'''\n",
    "2. `ver_inventario()`: Muestra el inventario de productos con sus detalles.\n",
    "- Utiliza un bucle `for` para recorrer el inventario.\n",
    "- Imprime los detalles (nombre, precio, cantidad) de cada producto.\n",
    "- Debería verse:\n",
    "```python\n",
    "Nombre: Camisa, Precio: $20, Cantidad: 50\n",
    "Nombre: Pantalón, Precio: $30, Cantidad: 30\n",
    "Nombre: Zapatos, Precio: $50, Cantidad: 40\n",
    "Nombre: Camisa, Precio: $20, Cantidad: 50\n",
    "```\n",
    "'''\n",
    "def ver_inventario():\n",
    "    for producto in inventario:\n",
    "        print(f\"Nombre: {producto['nombre']}, precio: {producto['precio']}, cantidad: {producto['cantidad']}\")\n",
    "\n",
    "ver_inventario()"
   ]
  },
  {
   "cell_type": "code",
   "execution_count": 25,
   "metadata": {},
   "outputs": [
    {
     "name": "stdout",
     "output_type": "stream",
     "text": [
      "Nombre: Camisa, precio: 20, cantidad: 80\n"
     ]
    }
   ],
   "source": [
    "'''\n",
    "3. `buscar_producto(nombre)`: Busca un producto en el inventario por nombre\n",
    "y muestra sus detalles si se encuentra. Debe recibir el nombre del producto\n",
    "como parámetro.\n",
    "- Utiliza un bucle `for` para recorrer el inventario.\n",
    "- Compara los nombres de los productos con el nombre proporcionado.\n",
    "- Si se encuentra el producto, imprime sus detalles.\n",
    "- Debe mostrar:\n",
    "```python\n",
    "Nombre: Camisa, Precio: $20, Cantidad: 40\n",
    "```\n",
    "'''\n",
    "def buscar_producto(nombre):\n",
    "    for producto in inventario:\n",
    "        if producto['nombre'] == nombre:\n",
    "            print(f\"Nombre: {producto['nombre']}, precio: {producto['precio']}, cantidad: {producto['cantidad']}\")\n",
    "            return\n",
    "buscar_producto('Camisa')"
   ]
  },
  {
   "cell_type": "code",
   "execution_count": 44,
   "metadata": {},
   "outputs": [
    {
     "name": "stdout",
     "output_type": "stream",
     "text": [
      "Stock actualizado: Camisa, Nueva cantidad: 9\n",
      "Stock actualizado: Pantalón, Nueva cantidad: 120\n",
      "Botas no esta en el inventario.\n"
     ]
    }
   ],
   "source": [
    "'''\n",
    "4. `actualizar_stock(nombre, cantidad)`: Actualiza el stock de un producto\n",
    "en el inventario. Debe recibir el nombre del producto y la cantidad a\n",
    "agregar o quitar como parámetros.\n",
    "- Utiliza un bucle `for` para recorrer el inventario.\n",
    "- Busca el producto por nombre.\n",
    "- Actualiza la cantidad según la entrada del usuario.\n",
    "- Si el producto no esta en el inventario muestra un mensaje\n",
    "indicándolo.\n",
    "'''\n",
    "def actualizar_stock(nombre, cantidad):\n",
    "    for producto in inventario:\n",
    "        if producto['nombre'] == nombre:\n",
    "            producto['cantidad'] += cantidad\n",
    "            print(f\"Stock actualizado: {producto['nombre']}, Nueva cantidad: {producto['cantidad']}\")\n",
    "            return\n",
    "    print(f\"{nombre} no esta en el inventario.\")\n",
    "\n",
    "actualizar_stock('Camisa', 20)\n",
    "actualizar_stock('Pantalón', 5)\n",
    "actualizar_stock('Botas', 2) "
   ]
  },
  {
   "cell_type": "code",
   "execution_count": 60,
   "metadata": {},
   "outputs": [
    {
     "name": "stdout",
     "output_type": "stream",
     "text": [
      "Producto no encontrado en el inventario.\n",
      "Producto no encontrado en el inventario.\n",
      "Nombre: Pantalón, precio: 30, cantidad: 120\n",
      "Nombre: Zapatos, precio: 50, cantidad: 160\n"
     ]
    }
   ],
   "source": [
    "'''\n",
    "5. `eliminar_producto(nombre)`: Elimina un producto del inventario por\n",
    "nombre. Debe recibir el nombre del producto como parámetro.\n",
    "- Utiliza un bucle `for` para recorrer el inventario.\n",
    "- Busca el producto por nombre.\n",
    "- Elimina el producto del inventario si existe.\n",
    "- Si el producto no esta en el inventario muestra un mensaje\n",
    "indicándolo.\n",
    "'''\n",
    "def eliminar_producto(nombre):\n",
    "        #print(inventario)\n",
    "        cantidad=range(len(inventario))\n",
    "        #El error se está intentando usar un diccionario como índice en el método pop.\n",
    "        #Para solucionar esto, asegúrate de usar el índice del producto en lugar del diccionario\n",
    "        for producto in cantidad:\n",
    "            if inventario[producto]['nombre'] == nombre:\n",
    "                producto_eliminar = inventario.pop(producto)\n",
    "                print(f\"Producto '{producto_eliminar['nombre']}' eliminado del inventario.\")\n",
    "                return\n",
    "                \n",
    "        print(\"Producto no encontrado en el inventario.\")\n",
    "\n",
    "eliminar_producto('Camisa')\n",
    "eliminar_producto('Botas')\n",
    "ver_inventario()"
   ]
  },
  {
   "cell_type": "code",
   "execution_count": 77,
   "metadata": {},
   "outputs": [
    {
     "name": "stdout",
     "output_type": "stream",
     "text": [
      "Producto Camisa agregado con éxito.\n",
      "Producto Calcetines agregado con éxito.\n",
      "El valor total del inventario es:  35\n"
     ]
    }
   ],
   "source": [
    "'''\n",
    "6. `calcular_valor_inventario()`: Calcula y muestra el valor total del\n",
    "inventario.\n",
    "- Utiliza un bucle for para calcular el valor total del inventario.\n",
    "- Itera a través del inventario y suma el valor de cada producto\n",
    "(precio x cantidad). Es decir, calcula el valor total del inventario.\n",
    "Ejemplo:\n",
    "```python\n",
    "# si tenemos 5 camisas que valen 5 euros\n",
    "# y 10 calcetines que valen 1 euro\n",
    "# este método te tiene que devolver: 35 euros\n",
    "valor_camisas = 5 * 5\n",
    "valor_calcetines = 10 * 1\n",
    "valor_camisas + valor_calcetines = 35\n",
    "```\n",
    "'''\n",
    "inventario.clear()\n",
    "def calcular_valor_inventario():\n",
    "    valor_total = 0\n",
    "    \n",
    "    for producto in inventario:\n",
    "        valor_producto = producto['precio'] * producto['cantidad']\n",
    "        valor_total += valor_producto\n",
    "    print(f\"El valor total del inventario es: \", valor_total)\n",
    "\n",
    "\n",
    "agregar_producto('Camisa', 5, 5)  # 5 camisas a 5 euros\n",
    "agregar_producto('Calcetines', 1, 10)\n",
    "calcular_valor_inventario()"
   ]
  },
  {
   "cell_type": "code",
   "execution_count": 23,
   "metadata": {},
   "outputs": [
    {
     "name": "stdout",
     "output_type": "stream",
     "text": [
      "Nombre: Camisa, precio: 20, cantidad: 46\n",
      "Nombre: Pantalón, precio: 30, cantidad: 26\n",
      "Nombre: Zapatos, precio: 50, cantidad: 37\n"
     ]
    },
    {
     "name": "stdout",
     "output_type": "stream",
     "text": [
      "Agregado 2 de Camisa al carrito.\n",
      "Producto no encontrado en el inventario.\n",
      "Nombre: Camisa, precio: 20, cantidad: 44\n",
      "Nombre: Pantalón, precio: 30, cantidad: 26\n",
      "Nombre: Zapatos, precio: 50, cantidad: 37\n",
      "Agregado 3 de Zapatos al carrito.\n",
      "Resumen de la compra: \n",
      "Producto: Camisa, Precio: 20, Cantidad: 2\n",
      "Producto: Zapatos, Precio: 50, Cantidad: 3\n",
      "Costo total de la compra: 190 \n"
     ]
    }
   ],
   "source": [
    "'''\n",
    "7. `realizar_compra()`: Permite a un cliente realizar una compra\n",
    "seleccionando productos del inventario. Debe interactuar con el cliente para\n",
    "seleccionar productos y calcular el costo total de la compra.\n",
    "- Utiliza un bucle `while` para permitir al cliente realizar múltiples\n",
    "compras.\n",
    "- Muestra el inventario y solicita al cliente ingresar el nombre del\n",
    "producto que desea comprar.\n",
    "- Registra los productos seleccionados en un carrito y actualiza el\n",
    "inventario.\n",
    "- Calcula el costo total de la compra.\n",
    "'''\n",
    "def realizar_compra():\n",
    "    total_compra = 0\n",
    "    carrito = {}\n",
    "    while True:\n",
    "        ver_inventario() \n",
    "        producto = input(\"Ingrese el nombre del producto que desea comprar (o 'salir' para terminar): \")\n",
    "        if producto.lower() == 'salir':\n",
    "            printf(\"Adios\")\n",
    "            return\n",
    "\n",
    "        for item in inventario:\n",
    "            if item['nombre'] == producto:\n",
    "                cantidad = int(input(f\"Ingrese la cantidad de {producto} que desea comprar: \"))                \n",
    "                if cantidad > item['cantidad']:\n",
    "                    print(f\"No hay suficiente stock de {producto}. Solo hay {item['cantidad']} disponibles.\")\n",
    "                else:\n",
    "                    total_compra += item['precio'] * cantidad\n",
    "                    item['cantidad'] -= cantidad  \n",
    "                    carrito[producto] = {'precio': item['precio'], 'cantidad': cantidad}\n",
    "                    print(f\"Agregado {cantidad} de {producto} al carrito.\")\n",
    "                    elige = input(\"Escribe 'Si' si quieres continuar comprando\")\n",
    "                    if elige == 'Si':\n",
    "                        continue\n",
    "                    else:\n",
    "                        print(f\"Resumen de la compra: \")\n",
    "                        for clave, valor in carrito.items():\n",
    "                            print(f\"Producto: {clave}, Precio: {valor['precio']}, Cantidad: {valor['cantidad']}\")\n",
    "                        print(f\"Costo total de la compra: {total_compra} \")\n",
    "                        return\n",
    "        print(\"Producto no encontrado en el inventario.\")\n",
    "\n",
    "realizar_compra()"
   ]
  },
  {
   "cell_type": "markdown",
   "metadata": {},
   "source": [
    "A partir de este punto los ejercicios son voluntarios:"
   ]
  },
  {
   "cell_type": "code",
   "execution_count": null,
   "metadata": {},
   "outputs": [],
   "source": [
    "'''\n",
    "8. `procesar_pago()`: Procesa el pago de una compra, calcula el cambio y\n",
    "muestra un mensaje de confirmación.\n",
    "- Utiliza un bloque `try...except` para manejar excepciones.\n",
    "- Solicita al cliente ingresar la cantidad total y la cantidad de pago\n",
    "usando un input.\n",
    "- Calcula el cambio y muestra un mensaje de pago exitoso o un error en\n",
    "caso de monto insuficiente.\n",
    "'''\n",
    "'''\n",
    "9. `agregar_cliente(nombre, email)`: Agrega un nuevo cliente al registro de\n",
    "clientes. Debe recibir el nombre y el correo electrónico del cliente como\n",
    "parámetros.\n",
    "- Agrega un cliente al diccionario de clientes con su nombre y correo\n",
    "electrónico.\n",
    "'''\n",
    "'''\n",
    "10. `ver_clientes()`: Muestra la lista de clientes registrados con sus\n",
    "nombres y correos electrónicos.\n",
    "- Utiliza un bucle `for` para recorrer la base de datos de clientes.\n",
    "- Imprime los detalles de cada cliente (nombre y correo electrónico).\n",
    "'''\n",
    "'''\n",
    "11. `registrar_compra(nombre_cliente, carrito)`: Registra una compra para\n",
    "un cliente, actualiza las ventas totales y agrega la compra al historial del\n",
    "cliente. Debe recibir el nombre del cliente y el carrito de compras como\n",
    "parámetros.\n",
    "- Busca al cliente en el diccionario de clientes.\n",
    "- Si el cliente no esta en el diccionario de clientes, muestra que no\n",
    "se puede realizar la acción por que el cliente no está en el diccionario.\n",
    "- Calcula el total de la compra y registra la compra, incluyendo los\n",
    "productos y el total.\n",
    "- Ejemplo:\n",
    "```python\n",
    "carrito_cliente1 = {\"Camisa\": {\"precio\": 20, \"cantidad\": 3}}\n",
    "tienda.registrar_compra(\"Cliente1\", carrito_cliente1)\n",
    "```\n",
    "'''\n",
    "'''\n",
    "12. `ver_compras_cliente(nombre_cliente)`: Muestra el historial de compras\n",
    "de un cliente. Debe recibir el nombre del cliente como parámetro.\n",
    "- Busca al cliente en el diccionario de clientes.\n",
    "- Muestra las compras realizadas por el cliente, incluyendo detalles de\n",
    "productos y totales.\n",
    "'''\n",
    "'''\n",
    "13. `calcular_ventas_totales()`: Muestra las ventas totales de la tienda.\n",
    "- Suma los totales de todas las compras realizadas y muestra el total\n",
    "de ventas totales en la tienda.\n",
    "'''"
   ]
  }
 ],
 "metadata": {
  "kernelspec": {
   "display_name": "Python 3",
   "language": "python",
   "name": "python3"
  },
  "language_info": {
   "codemirror_mode": {
    "name": "ipython",
    "version": 3
   },
   "file_extension": ".py",
   "mimetype": "text/x-python",
   "name": "python",
   "nbconvert_exporter": "python",
   "pygments_lexer": "ipython3",
   "version": "3.11.9"
  }
 },
 "nbformat": 4,
 "nbformat_minor": 2
}
